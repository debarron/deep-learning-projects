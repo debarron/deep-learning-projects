{
 "cells": [
  {
   "cell_type": "code",
   "execution_count": 11,
   "metadata": {
    "collapsed": true
   },
   "outputs": [
    {
     "name": "stdout",
     "output_type": "stream",
     "text": [
      "Requirement already satisfied: pillow in /home/daniel/anaconda3/envs/rocmtf/lib/python3.5/site-packages (5.1.0)\n",
      "\u001b[31mdistributed 1.21.8 requires msgpack, which is not installed.\u001b[0m\n",
      "\u001b[33mYou are using pip version 10.0.1, however version 18.0 is available.\n",
      "You should consider upgrading via the 'pip install --upgrade pip' command.\u001b[0m\n",
      "/home/daniel/anaconda3/envs/rocmtf/lib/python3.5/site-packages/h5py/__init__.py:36: FutureWarning: Conversion of the second argument of issubdtype from `float` to `np.floating` is deprecated. In future, it will be treated as `np.float64 == np.dtype(float).type`.\n",
      "  from ._conv import register_converters as _register_converters\n",
      "Using TensorFlow backend.\n"
     ]
    }
   ],
   "source": [
    "!pip install pillow\n",
    "!KERAS_BACKEND=tensorflow python -c \"from keras import backend\""
   ]
  },
  {
   "cell_type": "code",
   "execution_count": 12,
   "metadata": {
    "collapsed": true
   },
   "outputs": [],
   "source": [
    "import os\n",
    "import numpy as np\n",
    "from keras.models import Sequential\n",
    "from keras.layers import Activation, Dropout, Flatten, Dense\n",
    "from keras.preprocessing.image import ImageDataGenerator\n",
    "from keras.layers import Convolution2D, MaxPooling2D, ZeroPadding2D\n",
    "from keras import optimizers"
   ]
  },
  {
   "cell_type": "code",
   "execution_count": 17,
   "metadata": {
    "collapsed": true
   },
   "outputs": [],
   "source": [
    "# Input metadata\n",
    "img_width, img_height = 150, 150\n",
    "ds_train = \"./data/train\"\n",
    "ds_test = \"./data/test\""
   ]
  },
  {
   "cell_type": "code",
   "execution_count": 19,
   "metadata": {
    "collapsed": true
   },
   "outputs": [
    {
     "name": "stdout",
     "output_type": "stream",
     "text": [
      "Found 20000 images belonging to 2 classes.\n",
      "Found 5000 images belonging to 2 classes.\n"
     ]
    }
   ],
   "source": [
    "# Divide the data\n",
    "data_gen = ImageDataGenerator(rescale=1./255)\n",
    "gen_train = data_gen.flow_from_directory(\n",
    "    ds_train, \n",
    "    target_size=(img_width, img_height), \n",
    "    batch_size=16, \n",
    "    class_mode=\"binary\"\n",
    ")\n",
    "gen_test = data_gen.flow_from_directory(\n",
    "    ds_test, \n",
    "    target_size=(img_width, img_height), \n",
    "    batch_size=32, \n",
    "    class_mode=\"binary\"\n",
    ")"
   ]
  },
  {
   "cell_type": "code",
   "execution_count": 25,
   "metadata": {
    "collapsed": true
   },
   "outputs": [
    {
     "name": "stderr",
     "output_type": "stream",
     "text": [
      "/home/daniel/anaconda3/envs/rocmtf/lib/python3.5/site-packages/ipykernel_launcher.py:3: UserWarning: Update your `Conv2D` call to the Keras 2 API: `Conv2D(32, (3, 3), input_shape=(150, 150,...)`\n",
      "  This is separate from the ipykernel package so we can avoid doing imports until\n",
      "/home/daniel/anaconda3/envs/rocmtf/lib/python3.5/site-packages/ipykernel_launcher.py:7: UserWarning: Update your `Conv2D` call to the Keras 2 API: `Conv2D(32, (3, 3))`\n",
      "  import sys\n",
      "/home/daniel/anaconda3/envs/rocmtf/lib/python3.5/site-packages/ipykernel_launcher.py:11: UserWarning: Update your `Conv2D` call to the Keras 2 API: `Conv2D(64, (3, 3))`\n",
      "  # This is added back by InteractiveShellApp.init_path()\n"
     ]
    }
   ],
   "source": [
    "# Generate the CNN model\n",
    "model = Sequential()\n",
    "model.add(Convolution2D(32, 3, 3, input_shape=(img_width, img_height,3)))\n",
    "model.add(Activation('relu'))\n",
    "model.add(MaxPooling2D(pool_size=(2, 2)))\n",
    "\n",
    "model.add(Convolution2D(32, 3, 3))\n",
    "model.add(Activation('relu'))\n",
    "model.add(MaxPooling2D(pool_size=(2, 2)))\n",
    "\n",
    "model.add(Convolution2D(64, 3, 3))\n",
    "model.add(Activation('relu'))\n",
    "model.add(MaxPooling2D(pool_size=(2, 2)))\n",
    "\n",
    "model.add(Flatten())\n",
    "model.add(Dense(64))\n",
    "model.add(Activation('relu'))\n",
    "model.add(Dropout(0.5))\n",
    "model.add(Dense(1))\n",
    "model.add(Activation('sigmoid'))"
   ]
  },
  {
   "cell_type": "code",
   "execution_count": 27,
   "metadata": {
    "collapsed": true
   },
   "outputs": [],
   "source": [
    "model.compile(loss='binary_crossentropy',\n",
    "              optimizer='rmsprop',\n",
    "              metrics=['accuracy'])"
   ]
  },
  {
   "cell_type": "code",
   "execution_count": 45,
   "metadata": {},
   "outputs": [],
   "source": [
    "nb_epoch = 30\n",
    "nb_train_samples = 2048\n",
    "nb_validation_samples = 832"
   ]
  },
  {
   "cell_type": "code",
   "execution_count": 32,
   "metadata": {
    "collapsed": true
   },
   "outputs": [
    {
     "name": "stdout",
     "output_type": "stream",
     "text": [
      "Epoch 1/30\n",
      "  3/128 [..............................] - ETA: 5s - loss: 0.3972 - acc: 0.7917"
     ]
    },
    {
     "name": "stderr",
     "output_type": "stream",
     "text": [
      "/home/daniel/anaconda3/envs/rocmtf/lib/python3.5/site-packages/ipykernel_launcher.py:6: UserWarning: The semantics of the Keras 2 argument `steps_per_epoch` is not the same as the Keras 1 argument `samples_per_epoch`. `steps_per_epoch` is the number of batches to draw from the generator at each epoch. Basically steps_per_epoch = samples_per_epoch/batch_size. Similarly `nb_val_samples`->`validation_steps` and `val_samples`->`steps` arguments have changed. Update your method calls accordingly.\n",
      "  \n",
      "/home/daniel/anaconda3/envs/rocmtf/lib/python3.5/site-packages/ipykernel_launcher.py:6: UserWarning: Update your `fit_generator` call to the Keras 2 API: `fit_generator(<keras_pre..., steps_per_epoch=128, validation_steps=832, validation_data=<keras_pre..., epochs=30)`\n",
      "  \n"
     ]
    },
    {
     "name": "stdout",
     "output_type": "stream",
     "text": [
      "128/128 [==============================] - 14s 108ms/step - loss: 0.4311 - acc: 0.8096 - val_loss: 0.4398 - val_acc: 0.7944\n",
      "Epoch 2/30\n",
      "128/128 [==============================] - 13s 104ms/step - loss: 0.4473 - acc: 0.7979 - val_loss: 0.4503 - val_acc: 0.7920\n",
      "Epoch 3/30\n",
      "128/128 [==============================] - 13s 103ms/step - loss: 0.4507 - acc: 0.8003 - val_loss: 0.5075 - val_acc: 0.7654\n",
      "Epoch 4/30\n",
      "128/128 [==============================] - 13s 102ms/step - loss: 0.4362 - acc: 0.8032 - val_loss: 0.4661 - val_acc: 0.8014\n",
      "Epoch 5/30\n",
      "128/128 [==============================] - 13s 102ms/step - loss: 0.4399 - acc: 0.8027 - val_loss: 0.5024 - val_acc: 0.7608\n",
      "Epoch 6/30\n",
      "128/128 [==============================] - 13s 104ms/step - loss: 0.4296 - acc: 0.8101 - val_loss: 0.4111 - val_acc: 0.8190\n",
      "Epoch 7/30\n",
      "128/128 [==============================] - 13s 103ms/step - loss: 0.4624 - acc: 0.7964 - val_loss: 0.4553 - val_acc: 0.8008\n",
      "Epoch 8/30\n",
      "128/128 [==============================] - 13s 103ms/step - loss: 0.4539 - acc: 0.8076 - val_loss: 0.3970 - val_acc: 0.8206\n",
      "Epoch 9/30\n",
      "128/128 [==============================] - 13s 104ms/step - loss: 0.4494 - acc: 0.8008 - val_loss: 0.4447 - val_acc: 0.8000\n",
      "Epoch 10/30\n",
      "128/128 [==============================] - 13s 103ms/step - loss: 0.4445 - acc: 0.8081 - val_loss: 0.4222 - val_acc: 0.8132\n",
      "Epoch 11/30\n",
      "128/128 [==============================] - 13s 102ms/step - loss: 0.4246 - acc: 0.8218 - val_loss: 0.4437 - val_acc: 0.7906\n",
      "Epoch 12/30\n",
      "128/128 [==============================] - 13s 104ms/step - loss: 0.4204 - acc: 0.8159 - val_loss: 0.4367 - val_acc: 0.8154\n",
      "Epoch 13/30\n",
      "128/128 [==============================] - 13s 105ms/step - loss: 0.4421 - acc: 0.8203 - val_loss: 0.4294 - val_acc: 0.8064\n",
      "Epoch 14/30\n",
      "128/128 [==============================] - 14s 107ms/step - loss: 0.4420 - acc: 0.8135 - val_loss: 0.4543 - val_acc: 0.7970\n",
      "Epoch 15/30\n",
      "128/128 [==============================] - 13s 103ms/step - loss: 0.4388 - acc: 0.8052 - val_loss: 0.4402 - val_acc: 0.7980\n",
      "Epoch 16/30\n",
      "128/128 [==============================] - 13s 103ms/step - loss: 0.4533 - acc: 0.8096 - val_loss: 0.5508 - val_acc: 0.7256\n",
      "Epoch 17/30\n",
      "128/128 [==============================] - 13s 103ms/step - loss: 0.4364 - acc: 0.8003 - val_loss: 0.4352 - val_acc: 0.8088\n",
      "Epoch 18/30\n",
      "128/128 [==============================] - 13s 103ms/step - loss: 0.4465 - acc: 0.8027 - val_loss: 0.4316 - val_acc: 0.8052\n",
      "Epoch 19/30\n",
      "128/128 [==============================] - 13s 104ms/step - loss: 0.4407 - acc: 0.8018 - val_loss: 0.4461 - val_acc: 0.8060\n",
      "Epoch 20/30\n",
      "128/128 [==============================] - 13s 105ms/step - loss: 0.4025 - acc: 0.8335 - val_loss: 0.4151 - val_acc: 0.8192\n",
      "Epoch 21/30\n",
      "128/128 [==============================] - 13s 104ms/step - loss: 0.4188 - acc: 0.8184 - val_loss: 0.5040 - val_acc: 0.7984\n",
      "Epoch 22/30\n",
      "128/128 [==============================] - 13s 102ms/step - loss: 0.4400 - acc: 0.8154 - val_loss: 0.4524 - val_acc: 0.8044\n",
      "Epoch 23/30\n",
      "128/128 [==============================] - 13s 103ms/step - loss: 0.4470 - acc: 0.8066 - val_loss: 0.3980 - val_acc: 0.8236\n",
      "Epoch 24/30\n",
      "128/128 [==============================] - 14s 106ms/step - loss: 0.4523 - acc: 0.8086 - val_loss: 0.4584 - val_acc: 0.7972\n",
      "Epoch 25/30\n",
      "128/128 [==============================] - 13s 104ms/step - loss: 0.4068 - acc: 0.8296 - val_loss: 0.5487 - val_acc: 0.7548\n",
      "Epoch 26/30\n",
      "128/128 [==============================] - 14s 106ms/step - loss: 0.4395 - acc: 0.8154 - val_loss: 0.4262 - val_acc: 0.8148\n",
      "Epoch 27/30\n",
      "128/128 [==============================] - 13s 102ms/step - loss: 0.4411 - acc: 0.8188 - val_loss: 0.4045 - val_acc: 0.8290\n",
      "Epoch 28/30\n",
      "128/128 [==============================] - 13s 103ms/step - loss: 0.4461 - acc: 0.8198 - val_loss: 0.4681 - val_acc: 0.7802\n",
      "Epoch 29/30\n",
      "128/128 [==============================] - 13s 104ms/step - loss: 0.4258 - acc: 0.8208 - val_loss: 0.4350 - val_acc: 0.8136\n",
      "Epoch 30/30\n",
      "128/128 [==============================] - 14s 106ms/step - loss: 0.4298 - acc: 0.8198 - val_loss: 0.4056 - val_acc: 0.8248\n"
     ]
    },
    {
     "data": {
      "text/plain": [
       "<keras.callbacks.History at 0x7f20d4163630>"
      ]
     },
     "execution_count": 32,
     "metadata": {},
     "output_type": "execute_result"
    }
   ],
   "source": [
    "model.fit_generator(\n",
    "        gen_train,\n",
    "        samples_per_epoch=nb_train_samples,\n",
    "        nb_epoch=nb_epoch,\n",
    "        validation_data=gen_test,\n",
    "        nb_val_samples=nb_validation_samples)"
   ]
  },
  {
   "cell_type": "code",
   "execution_count": 37,
   "metadata": {},
   "outputs": [],
   "source": [
    "model.save_weights(\"models/cnn_20_epochs.h5\")"
   ]
  },
  {
   "cell_type": "code",
   "execution_count": 47,
   "metadata": {},
   "outputs": [
    {
     "data": {
      "text/plain": [
       "[0.3325566362025431, 0.8618539663461539]"
      ]
     },
     "execution_count": 47,
     "metadata": {},
     "output_type": "execute_result"
    }
   ],
   "source": [
    "model.evaluate_generator(gen_train, nb_validation_samples)"
   ]
  },
  {
   "cell_type": "code",
   "execution_count": null,
   "metadata": {},
   "outputs": [],
   "source": []
  },
  {
   "cell_type": "code",
   "execution_count": null,
   "metadata": {
    "collapsed": true
   },
   "outputs": [],
   "source": []
  }
 ],
 "metadata": {
  "kernelspec": {
   "display_name": "Python 3",
   "language": "python",
   "name": "python3"
  },
  "language_info": {
   "codemirror_mode": {
    "name": "ipython",
    "version": 3
   },
   "file_extension": ".py",
   "mimetype": "text/x-python",
   "name": "python",
   "nbconvert_exporter": "python",
   "pygments_lexer": "ipython3",
   "version": "3.5.5"
  }
 },
 "nbformat": 4,
 "nbformat_minor": 2
}
